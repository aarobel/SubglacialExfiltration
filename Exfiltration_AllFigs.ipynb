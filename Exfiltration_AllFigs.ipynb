{
 "cells": [
  {
   "cell_type": "markdown",
   "metadata": {},
   "source": [
    "# Load in packages to run hydromechanical model and plot"
   ]
  },
  {
   "cell_type": "code",
   "execution_count": 1,
   "metadata": {},
   "outputs": [],
   "source": [
    "import numpy as np\n",
    "import matplotlib.pyplot as plt\n",
    "import scipy.sparse as spr\n",
    "from scipy.sparse.linalg import inv"
   ]
  },
  {
   "cell_type": "markdown",
   "metadata": {},
   "source": [
    "# Parameters"
   ]
  },
  {
   "cell_type": "code",
   "execution_count": 2,
   "metadata": {},
   "outputs": [],
   "source": [
    "intSave=100\n",
    "year = 3600*24*365\n",
    "\n",
    "xi = 0.2\n",
    "rhoi = 920\n",
    "rhow = 1000\n",
    "g = 9.81\n",
    "mu_w = 1e-3\n",
    "S = 1e-6\n",
    "\n",
    "perm=1e-15\n",
    "K_t = perm*rhow*g/mu_w\n",
    "D = K_t/S\n",
    "\n",
    "h_init = 1e3\n",
    "dh=100"
   ]
  },
  {
   "cell_type": "markdown",
   "metadata": {},
   "source": [
    "# Grids and pre-allocation"
   ]
  },
  {
   "cell_type": "code",
   "execution_count": 3,
   "metadata": {},
   "outputs": [],
   "source": [
    "L = 40e3\n",
    "nx = int(1e3+1)\n",
    "x = np.linspace(0,L,num=nx)\n",
    "dx = x[1]-x[0]\n",
    "\n",
    "C_D = 1\n",
    "dt = (dx**2)*C_D/D\n",
    "tf = year*100\n",
    "nt = int(np.round(tf/dt) + 1)\n",
    "t = np.linspace(0,tf,num=nt)\n",
    "\n",
    "h = h_init*(rhoi/rhow)*np.ones(nx)\n",
    "h_all = np.zeros([nx,int(nt/intSave)+1])\n",
    "h_all[:,0] = h"
   ]
  },
  {
   "cell_type": "markdown",
   "metadata": {},
   "source": [
    "# Specify time-dependent load change"
   ]
  },
  {
   "cell_type": "code",
   "execution_count": 4,
   "metadata": {},
   "outputs": [
    {
     "data": {
      "text/plain": [
       "Text(0, 0.5, 'Thickness (m)')"
      ]
     },
     "execution_count": 4,
     "metadata": {},
     "output_type": "execute_result"
    },
    {
     "data": {
      "image/png": "[encoded data removed]",
      "text/plain": [
       "<Figure size 432x288 with 1 Axes>"
      ]
     },
     "metadata": {
      "needs_background": "light"
     },
     "output_type": "display_data"
    }
   ],
   "source": [
    "ramp_time = 20 #in years\n",
    "hbc_sfc  = np.zeros(int(nt));\n",
    "dhdt = np.zeros_like(hbc_sfc)\n",
    "bramp_bool = t < ramp_time*year\n",
    "aramp_bool = t >= ramp_time*year\n",
    "hbc_sfc[bramp_bool] = np.linspace(h_init,h_init-dh,np.count_nonzero(bramp_bool, axis=None))\n",
    "hbc_sfc[aramp_bool] = h_init-dh;\n",
    "dhdt[1:] = np.diff(hbc_sfc)/dt\n",
    "\n",
    "#dhdt[bramp_bool] = -np.linspace(0,2*dh/ramp_time,np.count_nonzero(bramp_bool, axis=None))/year\n",
    "#hbc_sfc = h_init + np.cumsum(dhdt*dt)\n",
    "plt.plot(t/year,hbc_sfc)\n",
    "plt.xlabel('Time (a)',fontsize=18)\n",
    "plt.ylabel('Thickness (m)',fontsize=18)"
   ]
  },
  {
   "cell_type": "markdown",
   "metadata": {},
   "source": [
    "# Solve with Crank-Nicolson method"
   ]
  },
  {
   "cell_type": "code",
   "execution_count": 5,
   "metadata": {},
   "outputs": [
    {
     "name": "stderr",
     "output_type": "stream",
     "text": [
      "/Users/robel/opt/anaconda3/envs/exfilmap/lib/python3.9/site-packages/scipy/sparse/_index.py:82: SparseEfficiencyWarning: Changing the sparsity structure of a csc_matrix is expensive. lil_matrix is more efficient.\n",
      "  self._set_intXint(row, col, x.flat[0])\n"
     ]
    }
   ],
   "source": [
    "Mld = np.zeros([3,nx])\n",
    "Mld[0,:] = -0.5*C_D*np.ones(nx)\n",
    "Mld[2,:] = -0.5*C_D*np.ones(nx)\n",
    "Mld[1,:] = (1+C_D)*np.ones(nx)\n",
    "Ml = spr.spdiags(Mld,[-1,0,1],nx,nx);\n",
    "Ml = spr.csc_matrix(Ml)\n",
    "Ml[-1,-1] = 1+0.5*C_D\n",
    "Ml[0,1] = 0\n",
    "Ml[0,0] = 1\n",
    "iMl = inv(Ml)\n",
    "\n",
    "Mrd = np.zeros([3,nx])\n",
    "Mrd[0,:] = 0.5*C_D*np.ones(nx)\n",
    "Mrd[2,:] = 0.5*C_D*np.ones(nx)\n",
    "Mrd[1,:] = (1-C_D)*np.ones(nx)\n",
    "Mr = spr.spdiags(Mrd,[-1,0,1],nx,nx);\n",
    "Mr = spr.csc_matrix(Mr)\n",
    "Mr[-1,-1] = 1-0.5*C_D\n",
    "Mr[0,1] = 0\n",
    "Mr[0,0] = 1"
   ]
  },
  {
   "cell_type": "code",
   "execution_count": null,
   "metadata": {},
   "outputs": [],
   "source": [
    "for k in np.arange(nt-1):\n",
    "    hm = h\n",
    "    hm.shape = (nx,1)\n",
    "    h[0] = hbc_sfc[k]*(rhoi/rhow)\n",
    "    \n",
    "    Svec = np.zeros([nx,1])\n",
    "    Svec[1:-2] = dt*xi*(rhoi/rhow)*dhdt[k]\n",
    "\n",
    "    hnew = iMl.dot(Mr.dot(hm) + Svec)\n",
    "    \n",
    "    if k%intSave == 0:\n",
    "        h_all[:,int(k/intSave)] = np.transpose(hnew)\n",
    "    h = hnew"
   ]
  },
  {
   "cell_type": "markdown",
   "metadata": {},
   "source": [
    "# Plot numerical against analytical solution (Figure 2)"
   ]
  },
  {
   "cell_type": "code",
   "execution_count": null,
   "metadata": {},
   "outputs": [],
   "source": [
    "sfc_flux = np.transpose(K_t*(h_all[0,:]-h_all[1,:])/dx)\n",
    "\n",
    "sflux_an = 2*(1-xi)*(rhoi/rhow)*dhdt[1]*(K_t*S*t/np.pi)**0.5\n",
    "sflux_an_delta = (1-xi)*(rhoi/rhow)*dh*(K_t*S/(np.pi*t))**0.5;\n",
    "\n",
    "tsub = t[0:-1:intSave]\n",
    "t_bramp = t < ramp_time*year"
   ]
  },
  {
   "cell_type": "code",
   "execution_count": null,
   "metadata": {},
   "outputs": [],
   "source": [
    "plt.plot(tsub/year,-1000*sfc_flux*year, 'x', color='black', linewidth=3, label = \"Numerical Solution\")\n",
    "plt.plot(t[t_bramp]/year,-1000*sflux_an[t_bramp]*year, '-', color='cyan', linewidth=3,label = \"$q_c$\")\n",
    "plt.plot(t[1:]/year + ramp_time/2,1000*sflux_an_delta[1:]*year, '-', color='red', linewidth=3,label = \"$q_d$\")\n",
    "plt.fill_betweenx([0,16],0,20,color='k',alpha=0.1)\n",
    "plt.xlabel('Time (a)',fontsize=18)\n",
    "plt.ylabel('Exfiltration Flux (mm/a)',fontsize=18)\n",
    "plt.legend()\n",
    "plt.ylim(0,15)\n",
    "plt.xlim(0,100)\n",
    "#legend('Numerical','Analytic Constant','Analytic Delta','Location','NorthEast')\n",
    "#plt.savefig('Exfil_NumericalDiff_TimeDepLoad_1panel_v4.pdf', bbox_inches='tight', format='pdf')"
   ]
  },
  {
   "cell_type": "markdown",
   "metadata": {},
   "source": [
    "# Load in packages to extract relevant field and map exfiltration predictions"
   ]
  },
  {
   "cell_type": "code",
   "execution_count": null,
   "metadata": {},
   "outputs": [],
   "source": [
    "import xarray as xr\n",
    "import cartopy.crs as ccrs\n",
    "from cartopy.mpl.gridliner import LONGITUDE_FORMATTER, LATITUDE_FORMATTER\n",
    "import matplotlib.ticker as mticker\n",
    "from mpl_toolkits.axes_grid1 import make_axes_locatable\n",
    "import matplotlib.colors as colors\n",
    "import cmocean\n",
    "import scipy.io as sio\n",
    "import geopandas as gpd\n",
    "import rioxarray\n",
    "import zipfile"
   ]
  },
  {
   "cell_type": "markdown",
   "metadata": {},
   "source": [
    "# Load IceSAT/IceSAT2 dh/dt mosaic from Smith et al. 2020"
   ]
  },
  {
   "cell_type": "code",
   "execution_count": null,
   "metadata": {},
   "outputs": [],
   "source": [
    "da = xr.open_rasterio('./ais_grounded.tif')\n",
    "#for some reason there appears to be a systematic offset (stretching) between \n",
    "#the built-in cartopy projection and the coordinates in smith 2020\n",
    "y = 1.03*da[0].y\n",
    "x = 1.03*da[0].x\n",
    "\n",
    "dhdt = da.variable.data[0]\n",
    "#transform = Affine.from_gdal(*da.attrs['transform'])\n",
    "\n",
    "xx, yy = np.meshgrid(x, y)"
   ]
  },
  {
   "cell_type": "markdown",
   "metadata": {},
   "source": [
    "# Calculate Exfiltration Prediction (Fig 3)"
   ]
  },
  {
   "cell_type": "code",
   "execution_count": null,
   "metadata": {},
   "outputs": [],
   "source": [
    "year = 3600*24*365\n",
    "rhoi = 920\n",
    "rhow = 1000\n",
    "g = 9.81\n",
    "mu_w = 1e-3\n",
    "\n",
    "perm=1e-13\n",
    "K_t = perm*rhow*g/mu_w\n",
    "S = 1e-6\n",
    "xi = 0.2\n",
    "\n",
    "deltat = 16*year\n",
    "exfil_analytic = -2*(1-xi)*(rhoi/rhow)*dhdt*(K_t*S*deltat/np.pi)**0.5"
   ]
  },
  {
   "cell_type": "code",
   "execution_count": null,
   "metadata": {},
   "outputs": [],
   "source": [
    "projection=ccrs.SouthPolarStereo()\n",
    "fig = plt.figure(figsize=(16, 16))\n",
    "ax = plt.subplot(1, 1, 1, projection=projection)\n",
    "p1 = ax.pcolormesh(xx, yy, 1000*exfil_analytic, cmap=cmocean.cm.tarn, norm=colors.SymLogNorm(linthresh=1.0, linscale=0.03,\n",
    "                                              vmin=-100, vmax=100) )\n",
    "ax.set_extent([min(x)*1.05, max(x)*1.05, min(y)*1.05, max(y)*1.05], crs=ccrs.SouthPolarStereo()) \n",
    "ax.coastlines()\n",
    "ax.gridlines(draw_labels=True)\n",
    "\n",
    "cax = plt.axes([0.95, 0.2, 0.015, 0.6])\n",
    "cb = plt.colorbar(p1, cax=cax, orientation='vertical',ticks=[-100, -10, 0, 10, 100])\n",
    "cb.ax.tick_params(axis='both', which='major', labelsize=20)\n",
    "cb.ax.set_ylabel('Exfiltration Rate (mm/yr)',fontsize=20)\n",
    "\n",
    "#plt.savefig('IceSat2_thinningexfil_perm1e-13_justprediction_v1.png', bbox_inches='tight')"
   ]
  },
  {
   "cell_type": "markdown",
   "metadata": {},
   "source": [
    "## Only execute the next two cells to calculate sums (i.e., dont execute if you want to correctly make plots below)"
   ]
  },
  {
   "cell_type": "code",
   "execution_count": null,
   "metadata": {},
   "outputs": [],
   "source": [
    "with zipfile.ZipFile(\"iceShelves.zip\",\"r\") as zip_ref:\n",
    "    zip_ref.extractall(\".\")\n",
    "\n",
    "iceshelvesmask = gpd.read_file('iceShelves.geojson')\n",
    "icems = iceshelvesmask.to_crs({'init': 'epsg:3031'}); \n",
    "\n",
    "da_wais = da.rio.clip(icems.loc[[4],'geometry'])\n",
    "dhdt_wais = da_wais.variable.data[0]\n",
    "\n",
    "da_thwaites = da.rio.clip(icems.loc[[26],'geometry'])\n",
    "dhdt_thwaites = da_thwaites.variable.data[0]\n",
    "\n",
    "da_pig = da.rio.clip(icems.loc[[27],'geometry'])\n",
    "dhdt_pig = da_pig.variable.data[0]"
   ]
  },
  {
   "cell_type": "code",
   "execution_count": null,
   "metadata": {},
   "outputs": [],
   "source": [
    "exfil_analytic_wais = -2*(1-xi)*(rhoi/rhow)*dhdt_wais*(K_t*S*deltat/np.pi)**0.5\n",
    "exfil_analytic_thwaites = -2*(1-xi)*(rhoi/rhow)*dhdt_thwaites*(K_t*S*deltat/np.pi)**0.5\n",
    "exfil_analytic_pig = -2*(1-xi)*(rhoi/rhow)*dhdt_pig*(K_t*S*deltat/np.pi)**0.5\n",
    "\n",
    "#sums\n",
    "exfil_analytic_justex = exfil_analytic\n",
    "exfil_analytic_justex[dhdt>0] = np.nan\n",
    "exfil_aa = np.nansum(exfil_analytic_justex*(5e3**2))*1000/1e12\n",
    "\n",
    "exfil_analytic_justex_wais = exfil_analytic_wais\n",
    "exfil_analytic_justex_wais[dhdt_wais>0] = np.nan\n",
    "exfil_wais = np.nansum(exfil_analytic_justex_wais*(5e3**2))*1000/1e12\n",
    "\n",
    "exfil_analytic_justex_thwaites = exfil_analytic_thwaites\n",
    "exfil_analytic_justex_thwaites[dhdt_thwaites>0] = np.nan\n",
    "exfil_thwaites = np.nansum(exfil_analytic_justex_thwaites*(5e3**2))*1000/1e12\n",
    "\n",
    "exfil_analytic_justex_pig = exfil_analytic_pig\n",
    "exfil_analytic_justex_pig[dhdt_pig>0] = np.nan\n",
    "exfil_pig = np.nansum(exfil_analytic_justex_pig*(5e3**2))*1000/1e12\n",
    "\n",
    "exfil_ase = exfil_thwaites + exfil_pig"
   ]
  },
  {
   "cell_type": "markdown",
   "metadata": {},
   "source": [
    "# Fraction of subglacial water budget (Pattyn 2010) - Figure 4"
   ]
  },
  {
   "cell_type": "code",
   "execution_count": null,
   "metadata": {},
   "outputs": [],
   "source": [
    "mat_contents = sio.loadmat('Pattyn2010_basalmelt_mean_smithgrid.mat',struct_as_record=False)\n",
    "bmr = mat_contents['basalmelt_smithgrid']\n",
    "\n",
    "exfilfrac_basalmelt = exfil_analytic/(bmr+exfil_analytic)\n",
    "#x_pattyn = np.arange(-2800000,2805000,5000)\n",
    "#xx_pattyn,yy_pattyn = np.meshgrid(x_pattyn,x_pattyn)"
   ]
  },
  {
   "cell_type": "code",
   "execution_count": null,
   "metadata": {},
   "outputs": [],
   "source": [
    "projection=ccrs.SouthPolarStereo()\n",
    "fig = plt.figure(figsize=(16, 16))\n",
    "ax = plt.subplot(1, 1, 1, projection=projection)\n",
    "p1 = ax.pcolormesh(xx, yy, 1000*bmr, cmap=cmocean.cm.dense, norm=colors.LogNorm(vmin=1, vmax=100) )\n",
    "ax.set_extent([min(x)*1.05, max(x)*1.05, min(y)*1.05, max(y)*1.05], crs=ccrs.SouthPolarStereo()) \n",
    "ax.coastlines()\n",
    "ax.gridlines(draw_labels=True)\n",
    "\n",
    "cax = plt.axes([0.95, 0.25, 0.015, 0.5])\n",
    "cb = plt.colorbar(p1, cax=cax, orientation='vertical',ticks=[-100, -10, 0, 10, 100])\n",
    "cb.ax.set_ylabel('Basal Melt Rate (mm/yr)',fontsize=24);"
   ]
  },
  {
   "cell_type": "code",
   "execution_count": null,
   "metadata": {},
   "outputs": [],
   "source": [
    "projection=ccrs.SouthPolarStereo()\n",
    "fig = plt.figure(figsize=(16, 16))\n",
    "ax = plt.subplot(1, 1, 1, projection=projection)\n",
    "p1 = ax.pcolormesh(xx, yy, exfilfrac_basalmelt, cmap='PRGn',vmin=-1,vmax=1)\n",
    "ax.set_extent([min(x)*1.05, max(x)*1.05, min(y)*1.05, max(y)*1.05], crs=ccrs.SouthPolarStereo()) \n",
    "ax.coastlines()\n",
    "ax.gridlines(draw_labels=True)\n",
    "\n",
    "cax = plt.axes([0.95, 0.2, 0.015, 0.6])\n",
    "cb = plt.colorbar(p1, cax=cax, orientation='vertical')\n",
    "cb.ax.tick_params(axis='both', which='major', labelsize=20)\n",
    "cb.ax.set_ylabel('Exfiltration rate fraction of total water budget',fontsize=24);\n",
    "\n",
    "#plt.savefig('IceSat2_thinningexfil_perm1e-13_justexfilfrac_v1.png', bbox_inches='tight')"
   ]
  },
  {
   "cell_type": "markdown",
   "metadata": {},
   "source": [
    "# All panels together now"
   ]
  },
  {
   "cell_type": "code",
   "execution_count": null,
   "metadata": {},
   "outputs": [],
   "source": [
    "projection=ccrs.SouthPolarStereo()\n",
    "fig = plt.figure(figsize=(16, 16))\n",
    "ax1 = plt.subplot(3, 2, 1, projection=projection)\n",
    "p1 = ax1.pcolormesh(xx, yy, 1000*exfil_analytic, cmap=cmocean.cm.tarn, norm=colors.SymLogNorm(linthresh=1.0, linscale=0.03,\n",
    "                                              vmin=-100, vmax=100) )\n",
    "ax1.set_extent([min(x)*1.05, max(x)*1.05, min(y)*1.05, max(y)*1.05], crs=ccrs.SouthPolarStereo()) \n",
    "ax1.coastlines()\n",
    "ax1.gridlines(draw_labels=True)\n",
    "#ax1.text(-0.07, 0.55, '$k=10^{-13}$ m$^2$', va='bottom', ha='center',\n",
    "#        rotation='vertical', rotation_mode='anchor',\n",
    "#        transform=ax1.transAxes, fontsize=24)\n",
    "#ax1.text(0.05, 0.9, '(a)', va='bottom', ha='center',transform=ax1.transAxes, fontsize=20)\n",
    "\n",
    "ax3 = plt.subplot(3, 2, 3, projection=projection)\n",
    "p3 = ax3.pcolormesh(xx, yy, 1000*exfil_analytic/10, cmap=cmocean.cm.tarn, norm=colors.SymLogNorm(linthresh=1.0, linscale=0.03,\n",
    "                                              vmin=-100, vmax=100) )\n",
    "ax3.set_extent([min(x)*1.05, max(x)*1.05, min(y)*1.05, max(y)*1.05], crs=ccrs.SouthPolarStereo()) \n",
    "ax3.coastlines()\n",
    "ax3.gridlines(draw_labels=True)\n",
    "#ax3.text(-0.07, 0.55, '$k=10^{-15}$ m$^2$', va='bottom', ha='center',\n",
    "#        rotation='vertical', rotation_mode='anchor',\n",
    "#        transform=ax3.transAxes, fontsize=24)\n",
    "#ax3.text(0.05, 0.9, '(b)', va='bottom', ha='center',transform=ax3.transAxes, fontsize=20)\n",
    "\n",
    "ax5 = plt.subplot(3, 2, 5, projection=projection)\n",
    "p5 = ax5.pcolormesh(xx, yy, 1000*exfil_analytic/100, cmap=cmocean.cm.tarn, norm=colors.SymLogNorm(linthresh=1.0, linscale=0.03,\n",
    "                                              vmin=-100, vmax=100) )\n",
    "ax5.set_extent([min(x)*1.05, max(x)*1.05, min(y)*1.05, max(y)*1.05], crs=ccrs.SouthPolarStereo()) \n",
    "ax5.coastlines()\n",
    "ax5.gridlines(draw_labels=True)\n",
    "#ax5.text(-0.07, 0.55, '$k=10^{-17}$ m$^2$', va='bottom', ha='center',\n",
    "#        rotation='vertical', rotation_mode='anchor',\n",
    "#        transform=ax5.transAxes, fontsize=24)\n",
    "#ax5.text(0.05, 0.9, '(c)', va='bottom', ha='center',transform=ax5.transAxes, fontsize=20)\n",
    "\n",
    "cax1 = plt.axes([0.485, 0.135, 0.015, 0.73])\n",
    "cb1 = plt.colorbar(p1, cax=cax1, orientation='vertical',ticks=[-100, -10, 0, 10, 100])\n",
    "cb1.ax.set_ylabel('Exfiltration Rate (mm/yr)',fontsize=18)\n",
    "\n",
    "ax2 = plt.subplot(3, 2, 2, projection=projection)\n",
    "p2 = ax2.pcolormesh(xx, yy, exfilfrac_basalmelt, cmap='PRGn',vmin=-1,vmax=1)\n",
    "ax2.set_extent([min(x)*1.05, max(x)*1.05, min(y)*1.05, max(y)*1.05], crs=ccrs.SouthPolarStereo()) \n",
    "ax2.coastlines()\n",
    "ax2.gridlines(draw_labels=True)\n",
    "#ax2.text(0.05, 0.9, '(d)', va='bottom', ha='center',transform=ax2.transAxes, fontsize=20)\n",
    "\n",
    "ax4 = plt.subplot(3, 2, 4, projection=projection)\n",
    "p4 = ax4.pcolormesh(xx, yy, exfilfrac_basalmelt/10, cmap='PRGn',vmin=-1,vmax=1)\n",
    "ax4.set_extent([min(x)*1.05, max(x)*1.05, min(y)*1.05, max(y)*1.05], crs=ccrs.SouthPolarStereo()) \n",
    "ax4.coastlines()\n",
    "ax4.gridlines(draw_labels=True)\n",
    "#ax4.text(0.05, 0.9, '(e)', va='bottom', ha='center',transform=ax4.transAxes, fontsize=20)\n",
    "\n",
    "ax6 = plt.subplot(3, 2, 6, projection=projection)\n",
    "p6 = ax6.pcolormesh(xx, yy, exfilfrac_basalmelt/100, cmap='PRGn',vmin=-1,vmax=1)\n",
    "ax6.set_extent([min(x)*1.05, max(x)*1.05, min(y)*1.05, max(y)*1.05], crs=ccrs.SouthPolarStereo()) \n",
    "ax6.coastlines()\n",
    "ax6.gridlines(draw_labels=True)\n",
    "#ax6.text(0.05, 0.9, '(f)', va='bottom', ha='center',transform=ax6.transAxes, fontsize=20)\n",
    "\n",
    "cax2 = plt.axes([0.90, 0.135, 0.015, 0.73])\n",
    "cb2 = plt.colorbar(p2, cax=cax2, orientation='vertical')\n",
    "cb2.ax.set_ylabel('Exfiltration rate fraction of total water budget',fontsize=18);\n",
    "\n",
    "#plt.savefig('IceSat2_thinningexfil_allperms_v6_alt.png', bbox_inches='tight', dpi =200)"
   ]
  },
  {
   "cell_type": "markdown",
   "metadata": {},
   "source": [
    "# Calculate Sums (skip to here from other summing cells above)"
   ]
  },
  {
   "cell_type": "code",
   "execution_count": null,
   "metadata": {},
   "outputs": [],
   "source": [
    "da2 = da\n",
    "da2.variable.data[0] = bmr\n",
    "da2_wais = da2.rio.clip(icems.loc[[4],'geometry'])\n",
    "bmr_wais = da2_wais.variable.data[0]\n",
    "\n",
    "da3 = da\n",
    "da3.variable.data[0] = bmr\n",
    "da3_thwaites = da3.rio.clip(icems.loc[[26],'geometry'])\n",
    "bmr_thwaites = da3_thwaites.variable.data[0]\n",
    "\n",
    "da4 = da\n",
    "da4.variable.data[0] = bmr\n",
    "da4_pig = da4.rio.clip(icems.loc[[27],'geometry'])\n",
    "bmr_pig = da4_pig.variable.data[0]"
   ]
  },
  {
   "cell_type": "code",
   "execution_count": null,
   "metadata": {},
   "outputs": [],
   "source": [
    "bmrtotal_aa = np.nansum(bmr*(5e3**2))*1000/1e12\n",
    "\n",
    "exfil_aa/(bmrtotal_aa+exfil_aa)"
   ]
  },
  {
   "cell_type": "code",
   "execution_count": null,
   "metadata": {},
   "outputs": [],
   "source": [
    "bmrtotal_wais = np.nansum(bmr_wais*(5e3**2))*1000/1e12\n",
    "\n",
    "exfil_wais/(bmrtotal_wais+exfil_wais)\n",
    "exfil_wais"
   ]
  },
  {
   "cell_type": "code",
   "execution_count": null,
   "metadata": {},
   "outputs": [],
   "source": [
    "bmrtotal_thwaites = np.nansum(bmr_thwaites*(5e3**2))*1000/1e12\n",
    "\n",
    "exfil_thwaites/(bmrtotal_thwaites+exfil_thwaites)"
   ]
  },
  {
   "cell_type": "code",
   "execution_count": null,
   "metadata": {},
   "outputs": [],
   "source": [
    "bmrtotal_pig = np.nansum(bmr_pig*(5e3**2))*1000/1e12\n",
    "\n",
    "exfil_pig/(bmrtotal_pig+exfil_pig)"
   ]
  },
  {
   "cell_type": "code",
   "execution_count": null,
   "metadata": {},
   "outputs": [],
   "source": [
    "exfil_ase/(bmrtotal_pig+bmrtotal_thwaites+exfil_ase)\n",
    "exfil_ase"
   ]
  }
 ],
 "metadata": {
  "kernelspec": {
   "display_name": "Python 3 (ipykernel)",
   "language": "python",
   "name": "python3"
  },
  "language_info": {
   "codemirror_mode": {
    "name": "ipython",
    "version": 3
   },
   "file_extension": ".py",
   "mimetype": "text/x-python",
   "name": "python",
   "nbconvert_exporter": "python",
   "pygments_lexer": "ipython3",
   "version": "3.9.12"
  }
 },
 "nbformat": 4,
 "nbformat_minor": 4
}
