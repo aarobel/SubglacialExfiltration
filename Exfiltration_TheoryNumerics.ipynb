{
 "cells": [
  {
   "cell_type": "code",
   "execution_count": 1,
   "metadata": {},
   "outputs": [],
   "source": [
    "import numpy as np\n",
    "import matplotlib.pyplot as plt\n",
    "import scipy.sparse as spr\n",
    "from scipy.sparse.linalg import inv"
   ]
  },
  {
   "cell_type": "markdown",
   "metadata": {},
   "source": [
    "# Parameters"
   ]
  },
  {
   "cell_type": "code",
   "execution_count": 2,
   "metadata": {},
   "outputs": [],
   "source": [
    "intSave=100\n",
    "year = 3600*24*365\n",
    "\n",
    "xi = 0.2\n",
    "rhoi = 920\n",
    "rhow = 1000\n",
    "g = 9.81\n",
    "mu_w = 1e-3\n",
    "S = 1e-6\n",
    "\n",
    "perm=1e-15\n",
    "K_t = perm*rhow*g/mu_w\n",
    "D = K_t/S\n",
    "\n",
    "h_init = 1e3\n",
    "dh=100"
   ]
  },
  {
   "cell_type": "markdown",
   "metadata": {},
   "source": [
    "# Grids and pre-allocation"
   ]
  },
  {
   "cell_type": "code",
   "execution_count": 3,
   "metadata": {},
   "outputs": [],
   "source": [
    "L = 10e3\n",
    "nx = int(5e2+1)\n",
    "x = np.linspace(0,L,num=nx)\n",
    "dx = x[1]-x[0]\n",
    "\n",
    "C_D = 1\n",
    "dt = (dx**2)*C_D/D\n",
    "tf = year*100\n",
    "nt = int(np.round(tf/dt) + 1)\n",
    "t = np.linspace(0,tf,num=nt)\n",
    "\n",
    "h = h_init*(rhoi/rhow)*np.ones(nx)\n",
    "h_all = np.zeros([nx,int(nt/intSave)+1])\n",
    "h_all[:,0] = h"
   ]
  },
  {
   "cell_type": "markdown",
   "metadata": {},
   "source": [
    "# Specify time-dependent load change"
   ]
  },
  {
   "cell_type": "code",
   "execution_count": 4,
   "metadata": {},
   "outputs": [],
   "source": [
    "ramp_time = 20 #in years\n",
    "hbc_sfc  = np.zeros(int(nt));\n",
    "bramp_bool = t < ramp_time*year\n",
    "aramp_bool = t >= ramp_time*year\n",
    "hbc_sfc[bramp_bool] = np.linspace(h_init,h_init-dh,np.count_nonzero(bramp_bool, axis=None))\n",
    "hbc_sfc[aramp_bool] = h_init-dh;\n",
    "\n",
    "dhdt = np.zeros_like(hbc_sfc)\n",
    "dhdt[1:] = np.diff(hbc_sfc)/dt"
   ]
  },
  {
   "cell_type": "markdown",
   "metadata": {},
   "source": [
    "# Solve with Crank-Nicolson method"
   ]
  },
  {
   "cell_type": "code",
   "execution_count": 5,
   "metadata": {},
   "outputs": [
    {
     "name": "stderr",
     "output_type": "stream",
     "text": [
      "/Users/robel/opt/anaconda3/lib/python3.9/site-packages/scipy/sparse/_index.py:82: SparseEfficiencyWarning: Changing the sparsity structure of a csc_matrix is expensive. lil_matrix is more efficient.\n",
      "  self._set_intXint(row, col, x.flat[0])\n"
     ]
    }
   ],
   "source": [
    "Mld = np.zeros([3,nx])\n",
    "Mld[0,:] = -0.5*C_D*np.ones(nx)\n",
    "Mld[2,:] = -0.5*C_D*np.ones(nx)\n",
    "Mld[1,:] = (1+C_D)*np.ones(nx)\n",
    "Ml = spr.spdiags(Mld,[-1,0,1],nx,nx);\n",
    "Ml = spr.csc_matrix(Ml)\n",
    "Ml[-1,-1] = 1+0.5*C_D\n",
    "Ml[0,1] = 0\n",
    "Ml[0,0] = 1\n",
    "iMl = inv(Ml)\n",
    "\n",
    "Mrd = np.zeros([3,nx])\n",
    "Mrd[0,:] = 0.5*C_D*np.ones(nx)\n",
    "Mrd[2,:] = 0.5*C_D*np.ones(nx)\n",
    "Mrd[1,:] = (1-C_D)*np.ones(nx)\n",
    "Mr = spr.spdiags(Mrd,[-1,0,1],nx,nx);\n",
    "Mr = spr.csc_matrix(Mr)\n",
    "Mr[-1,-1] = 1-0.5*C_D\n",
    "Mr[0,1] = 0\n",
    "Mr[0,0] = 1"
   ]
  },
  {
   "cell_type": "code",
   "execution_count": 6,
   "metadata": {},
   "outputs": [],
   "source": [
    "for k in np.arange(nt-1):\n",
    "    hm = h\n",
    "    hm.shape = (nx,1)\n",
    "    h[0] = hbc_sfc[k]*(rhoi/rhow)\n",
    "    \n",
    "    Svec = np.zeros([nx,1])\n",
    "    Svec[1:-2] = dt*xi*(rhoi/rhow)*dhdt[k]\n",
    "\n",
    "    hnew = iMl.dot(Mr.dot(hm) + Svec)\n",
    "    \n",
    "    if k%intSave == 0:\n",
    "        h_all[:,int(k/intSave)] = np.transpose(hnew)\n",
    "    h = hnew"
   ]
  },
  {
   "cell_type": "markdown",
   "metadata": {},
   "source": [
    "# Plot numerical against analytical solution"
   ]
  },
  {
   "cell_type": "code",
   "execution_count": 7,
   "metadata": {},
   "outputs": [
    {
     "name": "stderr",
     "output_type": "stream",
     "text": [
      "/var/folders/c_/227frt1j43jbnz_2d1q8hv640000gr/T/ipykernel_38339/489444607.py:4: RuntimeWarning: divide by zero encountered in true_divide\n",
      "  sflux_an_delta = (1-xi)*(rhoi/rhow)*dh*(K_t*S/(np.pi*t))**0.5;\n"
     ]
    }
   ],
   "source": [
    "sfc_flux = np.transpose(K_t*(h_all[0,:]-h_all[1,:])/dx)\n",
    "\n",
    "sflux_an = 2*(1-xi)*(rhoi/rhow)*dhdt*(K_t*S*t/np.pi)**0.5\n",
    "sflux_an_delta = (1-xi)*(rhoi/rhow)*dh*(K_t*S/(np.pi*t))**0.5;\n",
    "\n",
    "tsub = t[0:-1:intSave]\n",
    "t_bramp = t < ramp_time*year"
   ]
  },
  {
   "cell_type": "code",
   "execution_count": 28,
   "metadata": {},
   "outputs": [
    {
     "data": {
      "image/png": "[encoded data removed]",
      "text/plain": [
       "<Figure size 432x288 with 1 Axes>"
      ]
     },
     "metadata": {
      "needs_background": "light"
     },
     "output_type": "display_data"
    }
   ],
   "source": [
    "plt.plot(tsub/year,-1000*sfc_flux*year, 'x', color='black', linewidth=3, label = \"Numerical Solution\")\n",
    "plt.plot(t[t_bramp]/year,-1000*sflux_an[t_bramp]*year, '-', color='cyan', linewidth=3,label = \"q_c\")\n",
    "plt.plot(t[1:]/year + ramp_time/2,1000*sflux_an_delta[1:]*year, '-', color='red', linewidth=3,label = \"q_d\")\n",
    "plt.fill_betweenx([0,16],0,20,color='k',alpha=0.1)\n",
    "plt.xlabel('time (years)',fontsize=18)\n",
    "plt.ylabel('Exfiltration flux (mm/yr)',fontsize=18)\n",
    "plt.legend()\n",
    "plt.ylim(0,15)\n",
    "plt.xlim(0,100)\n",
    "#legend('Numerical','Analytic Constant','Analytic Delta','Location','NorthEast')\n",
    "plt.savefig('Exfil_NumericalDiff_TimeDepLoad_1panel_v4.pdf', bbox_inches='tight', format='pdf')"
   ]
  },
  {
   "cell_type": "code",
   "execution_count": null,
   "metadata": {},
   "outputs": [],
   "source": []
  }
 ],
 "metadata": {
  "kernelspec": {
   "display_name": "Python 3 (ipykernel)",
   "language": "python",
   "name": "python3"
  },
  "language_info": {
   "codemirror_mode": {
    "name": "ipython",
    "version": 3
   },
   "file_extension": ".py",
   "mimetype": "text/x-python",
   "name": "python",
   "nbconvert_exporter": "python",
   "pygments_lexer": "ipython3",
   "version": "3.9.7"
  }
 },
 "nbformat": 4,
 "nbformat_minor": 4
}
